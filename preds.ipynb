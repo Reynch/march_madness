{
 "cells": [
  {
   "cell_type": "markdown",
   "metadata": {},
   "source": [
    "# Model\n",
    "In this notebook, we:\n",
    "- Define the structure of our prediction model.\n",
    "- Generate features that may be useful to predict NCAA tournament outcome.\n",
    "- Try different models and assess their performance.\n",
    "- Predict on the 2024 March Madness bracket."
   ]
  },
  {
   "cell_type": "markdown",
   "metadata": {},
   "source": [
    "## Imports"
   ]
  },
  {
   "cell_type": "code",
   "execution_count": 1,
   "metadata": {},
   "outputs": [],
   "source": [
    "import pandas as pd\n",
    "import numpy as np\n",
    "import matplotlib.pyplot as plt\n",
    "import seaborn as sns\n",
    "import os\n",
    "import sys\n",
    "\n",
    "# display 100 rows and 100 columns\n",
    "pd.set_option('display.max_rows', 100)\n",
    "pd.set_option('display.max_columns', 100)"
   ]
  },
  {
   "cell_type": "markdown",
   "metadata": {},
   "source": [
    "## Load Data"
   ]
  },
  {
   "cell_type": "code",
   "execution_count": 2,
   "metadata": {},
   "outputs": [],
   "source": [
    "# root dirs\n",
    "root = 'data/'\n",
    "mroot = 'data/mens/'\n",
    "wroot = 'data/womens/'\n",
    "\n",
    "\n",
    "# historical seeds\n",
    "mseeds = pd.read_csv(mroot + 'MNCAATourneySeeds.csv')\n",
    "wseeds = pd.read_csv(wroot + 'WNCAATourneySeeds.csv')\n",
    "\n",
    "# team names\n",
    "mteams = pd.read_csv(mroot + 'MTeams.csv')\n",
    "wteams = pd.read_csv(wroot + 'WTeams.csv')\n",
    "\n",
    "# historical tourney results\n",
    "mresults = pd.read_csv(mroot + 'MNCAATourneyCompactResults.csv')\n",
    "wresults = pd.read_csv(wroot + 'WNCAATourneyCompactResults.csv')\n",
    "\n",
    "# tourney slots\n",
    "mslots = pd.read_csv(mroot + 'MNCAATourneySlots.csv')\n",
    "wslots = pd.read_csv(wroot + 'WNCAATourneySlots.csv')\n",
    "\n",
    "# reg season results\n",
    "mreg = pd.read_csv(mroot + 'MRegularSeasonCompactResults.csv')\n",
    "wreg = pd.read_csv(wroot + 'WRegularSeasonCompactResults.csv')"
   ]
  },
  {
   "cell_type": "code",
   "execution_count": null,
   "metadata": {},
   "outputs": [],
   "source": [
    "# add, gender col, combine teams, drop old tables\n",
    "mteams['Tournament'] = 'M'\n",
    "wteams['Tournament'] = 'W'\n",
    "teams = pd.concat([mteams.drop(['FirstD1Season', 'LastD1Season'], axis=1), wteams], ignore_index=True)\n",
    "del mteams, wteams\n",
    "\n",
    "# combine reg season results, drop old tables\n",
    "regresults = pd.concat([mreg, wreg], ignore_index=True)\n",
    "del mreg, wreg\n",
    "\n",
    "# compute score differential\n",
    "regresults['ScoreDiff'] = regresults['WScore'] - regresults['LScore']\n",
    "\n",
    "# create a map for team names\n",
    "team_map = teams.set_index('TeamID')['TeamName']\n",
    "\n",
    "# map winning and losing team names\n",
    "regresults['WTeamName'] = regresults['WTeamID'].map(team_map)\n",
    "regresults['LTeamName'] = regresults['LTeamID'].map(team_map)"
   ]
  },
  {
   "cell_type": "markdown",
   "metadata": {},
   "source": [
    "## ML Model\n",
    "Essentially, the Label is the entire bracket prediction (63 games).\n",
    "\n",
    "There are multiple ways that we could structure this problem:\n",
    "- Predict tournament performance (num wins) based on reg season performance. This could also be paired with details of the tourney matchup.\n",
    "- Predict winner of each single game using features of each team in matchup (current-season data and all-time data)."
   ]
  },
  {
   "cell_type": "code",
   "execution_count": null,
   "metadata": {},
   "outputs": [],
   "source": []
  },
  {
   "cell_type": "code",
   "execution_count": null,
   "metadata": {},
   "outputs": [],
   "source": []
  },
  {
   "cell_type": "markdown",
   "metadata": {},
   "source": [
    "## Feature Creation\n",
    "\n",
    "We can simply generalize a lot from the seed of the team (and their opponent). The seed bakes in the performance of the team that year, as well as recent performance and key injuries. Even though the primary focus of seeding is on team performance, geography is also considered (to minimize travel for team/fans). This means that seeding may not be the perfect metric to use.\n",
    "\n",
    "---\n",
    "---\n",
    "\n",
    "Features that may help predict a team's tourney performance (__Pre-bracket__):\n",
    "\n",
    "__Features__ = features of that team's season, __Labels__ = Num wins in NCAA tourney\n",
    "- Wins\n",
    "- Losses\n",
    "- Win %\n",
    "- Home/Road Win %\n",
    "- Wins/Losses recently (say a month) before tourney\n",
    "- Performance in conference tourney\n",
    "- Performance in tourney prior year\n",
    "- Avg/std pts\n",
    "- Avg/std of opponent pts\n",
    "- Avg/std pt differential\n",
    "- Detailed stats\n",
    "- Num championships in the past\n",
    "- Play-in team?\n",
    "- Longest win-streak in season\n",
    "\n",
    "---\n",
    "\n",
    "Features after 1st round is complete (__Intra-bracket__):\n",
    "\n",
    "__Features__ = features of that team's season + bracket stats so far, __Labels__ = Binary W/L or score diff\n",
    "- Final output of pre-bracket model\n",
    "- Avg/std pts\n",
    "- Avg/std of opponent pts\n",
    "- Avg/std pt differential\n",
    "- Detailed stats\n",
    "- Coming off upset?"
   ]
  },
  {
   "cell_type": "code",
   "execution_count": null,
   "metadata": {},
   "outputs": [],
   "source": []
  },
  {
   "cell_type": "code",
   "execution_count": null,
   "metadata": {},
   "outputs": [],
   "source": []
  },
  {
   "cell_type": "code",
   "execution_count": null,
   "metadata": {},
   "outputs": [],
   "source": []
  },
  {
   "cell_type": "code",
   "execution_count": null,
   "metadata": {},
   "outputs": [],
   "source": []
  },
  {
   "cell_type": "code",
   "execution_count": null,
   "metadata": {},
   "outputs": [],
   "source": []
  },
  {
   "cell_type": "code",
   "execution_count": null,
   "metadata": {},
   "outputs": [],
   "source": []
  }
 ],
 "metadata": {
  "kernelspec": {
   "display_name": "Python (learn-env)",
   "language": "python",
   "name": "learn-env"
  },
  "language_info": {
   "codemirror_mode": {
    "name": "ipython",
    "version": 3
   },
   "file_extension": ".py",
   "mimetype": "text/x-python",
   "name": "python",
   "nbconvert_exporter": "python",
   "pygments_lexer": "ipython3",
   "version": "3.8.5"
  }
 },
 "nbformat": 4,
 "nbformat_minor": 2
}
